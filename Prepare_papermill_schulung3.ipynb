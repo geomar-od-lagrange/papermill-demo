{
 "cells": [
  {
   "cell_type": "markdown",
   "id": "ready-maine",
   "metadata": {},
   "source": [
    "# Prepare papermill for schulung3.geomar.de\n",
    "\n",
    "1. Make sure you have activated the correct kernel\n",
    "2. Install kernel manually"
   ]
  },
  {
   "cell_type": "code",
   "execution_count": 1,
   "id": "rental-march",
   "metadata": {},
   "outputs": [
    {
     "name": "stdout",
     "output_type": "stream",
     "text": [
      "Installed kernelspec py3_lagrange_v2.2.2 in /home/jupyter-wrath/.local/share/jupyter/kernels/py3_lagrange_v2.2.2\n"
     ]
    }
   ],
   "source": [
    "!python -m ipykernel install --user --name py3_lagrange_v2.2.2"
   ]
  },
  {
   "cell_type": "code",
   "execution_count": 2,
   "id": "female-lobby",
   "metadata": {},
   "outputs": [
    {
     "name": "stdout",
     "output_type": "stream",
     "text": [
      "[ListKernelSpecs] WARNING | Config option `kernel_spec_manager_class` not recognized by `ListKernelSpecs`.\n",
      "Available kernels:\n",
      "  conda-env-monitoring-py                           /home/jupyter-wrath/.local/share/jupyter/kernels/conda-env-monitoring-py\n",
      "  conda-env-py3_euler-py                            /home/jupyter-wrath/.local/share/jupyter/kernels/conda-env-py3_euler-py\n",
      "  conda-env-py3_euler_brokenline-py                 /home/jupyter-wrath/.local/share/jupyter/kernels/conda-env-py3_euler_brokenline-py\n",
      "  conda-env-py3_euler_brokenline_2020.08.20.1-py    /home/jupyter-wrath/.local/share/jupyter/kernels/conda-env-py3_euler_brokenline_2020.08.20.1-py\n",
      "  conda-env-py3_euler_intake-py                     /home/jupyter-wrath/.local/share/jupyter/kernels/conda-env-py3_euler_intake-py\n",
      "  conda-env-py3_euler_xoak-py                       /home/jupyter-wrath/.local/share/jupyter/kernels/conda-env-py3_euler_xoak-py\n",
      "  conda-env-py3_lagrange-py                         /home/jupyter-wrath/.local/share/jupyter/kernels/conda-env-py3_lagrange-py\n",
      "  conda-env-py3_lagrange_dev-py                     /home/jupyter-wrath/.local/share/jupyter/kernels/conda-env-py3_lagrange_dev-py\n",
      "  conda-env-py3_lagrange_parcels-dev-py             /home/jupyter-wrath/.local/share/jupyter/kernels/conda-env-py3_lagrange_parcels-dev-py\n",
      "  conda-env-py3_lagrange_parcels-v2.2.0-py          /home/jupyter-wrath/.local/share/jupyter/kernels/conda-env-py3_lagrange_parcels-v2.2.0-py\n",
      "  conda-env-py3_lagrange_v2.0.0-py                  /home/jupyter-wrath/.local/share/jupyter/kernels/conda-env-py3_lagrange_v2.0.0-py\n",
      "  conda-env-py3_lagrange_v2.2.2-py                  /home/jupyter-wrath/.local/share/jupyter/kernels/conda-env-py3_lagrange_v2.2.2-py\n",
      "  conda-env-py3_xoak-py                             /home/jupyter-wrath/.local/share/jupyter/kernels/conda-env-py3_xoak-py\n",
      "  conda-root-py                                     /home/jupyter-wrath/.local/share/jupyter/kernels/conda-root-py\n",
      "  py3_lagrange_v2.2.2                               /home/jupyter-wrath/.local/share/jupyter/kernels/py3_lagrange_v2.2.2\n",
      "  python3                                           /opt/tljh/user/envs/py3_lagrange_v2.2.2/share/jupyter/kernels/python3\n"
     ]
    }
   ],
   "source": [
    "!jupyter kernelspec list"
   ]
  },
  {
   "cell_type": "markdown",
   "id": "burning-information",
   "metadata": {},
   "source": [
    "## Run papermill on schulung3.geomar.de"
   ]
  },
  {
   "cell_type": "code",
   "execution_count": 3,
   "id": "concrete-isolation",
   "metadata": {},
   "outputs": [
    {
     "name": "stdout",
     "output_type": "stream",
     "text": [
      "Input Notebook:  original_notebooks/01_papermill_demo.ipynb\n",
      "Output Notebook: evaluated_notebooks/01_papermill_demo.ipynb\n",
      "Executing:   0%|                                        | 0/6 [00:00<?, ?cell/s]Executing notebook with kernel: py3_lagrange_v2.2.2\n",
      "Executing: 100%|████████████████████████████████| 6/6 [00:02<00:00,  2.71cell/s]\n"
     ]
    }
   ],
   "source": [
    "!papermill original_notebooks/01_papermill_demo.ipynb evaluated_notebooks/01_papermill_demo.ipynb -k py3_lagrange_v2.2.2"
   ]
  }
 ],
 "metadata": {
  "kernelspec": {
   "display_name": "Python [conda env:py3_lagrange_v2.2.2]",
   "language": "python",
   "name": "conda-env-py3_lagrange_v2.2.2-py"
  },
  "language_info": {
   "codemirror_mode": {
    "name": "ipython",
    "version": 3
   },
   "file_extension": ".py",
   "mimetype": "text/x-python",
   "name": "python",
   "nbconvert_exporter": "python",
   "pygments_lexer": "ipython3",
   "version": "3.8.6"
  }
 },
 "nbformat": 4,
 "nbformat_minor": 5
}
