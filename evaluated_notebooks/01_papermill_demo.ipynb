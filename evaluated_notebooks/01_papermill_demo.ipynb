{
 "cells": [
  {
   "cell_type": "markdown",
   "id": "official-terror",
   "metadata": {
    "papermill": {
     "duration": 0.003802,
     "end_time": "2021-02-09T09:18:21.048291",
     "exception": false,
     "start_time": "2021-02-09T09:18:21.044489",
     "status": "completed"
    },
    "tags": []
   },
   "source": [
    "# A Demo Notebook\n",
    "\n",
    "We'll use [Papermill](https://papermill.readthedocs.io/) to evaluate this notebooks with different parameters."
   ]
  },
  {
   "cell_type": "markdown",
   "id": "accomplished-nickname",
   "metadata": {
    "papermill": {
     "duration": 0.002343,
     "end_time": "2021-02-09T09:18:21.053552",
     "exception": false,
     "start_time": "2021-02-09T09:18:21.051209",
     "status": "completed"
    },
    "tags": []
   },
   "source": [
    "## Parameters\n",
    "\n",
    "Make sure to keep all parameters in a single cell that is tagged as \"parameters\". [More on how to tag a cell in JupyterLab here.](https://papermill.readthedocs.io/en/latest/usage-parameterize.html?highlight=tag#id1)"
   ]
  },
  {
   "cell_type": "code",
   "execution_count": 1,
   "id": "latest-california",
   "metadata": {
    "execution": {
     "iopub.execute_input": "2021-02-09T09:18:21.073944Z",
     "iopub.status.busy": "2021-02-09T09:18:21.073231Z",
     "iopub.status.idle": "2021-02-09T09:18:21.077045Z",
     "shell.execute_reply": "2021-02-09T09:18:21.076477Z"
    },
    "papermill": {
     "duration": 0.020634,
     "end_time": "2021-02-09T09:18:21.077207",
     "exception": false,
     "start_time": "2021-02-09T09:18:21.056573",
     "status": "completed"
    },
    "tags": [
     "parameters"
    ]
   },
   "outputs": [],
   "source": [
    "# (this cell is tagged as \"parameters\")\n",
    "\n",
    "N = 1_000"
   ]
  },
  {
   "cell_type": "markdown",
   "id": "normal-cream",
   "metadata": {
    "papermill": {
     "duration": 0.00303,
     "end_time": "2021-02-09T09:18:21.083561",
     "exception": false,
     "start_time": "2021-02-09T09:18:21.080531",
     "status": "completed"
    },
    "tags": []
   },
   "source": [
    "## Some \"Calculations\"\n",
    "\n",
    "Let's have some simple pseudo-calculations here."
   ]
  },
  {
   "cell_type": "code",
   "execution_count": 2,
   "id": "atlantic-texas",
   "metadata": {
    "execution": {
     "iopub.execute_input": "2021-02-09T09:18:21.092888Z",
     "iopub.status.busy": "2021-02-09T09:18:21.092513Z",
     "iopub.status.idle": "2021-02-09T09:18:21.097509Z",
     "shell.execute_reply": "2021-02-09T09:18:21.097188Z"
    },
    "papermill": {
     "duration": 0.01145,
     "end_time": "2021-02-09T09:18:21.097596",
     "exception": false,
     "start_time": "2021-02-09T09:18:21.086146",
     "status": "completed"
    },
    "tags": []
   },
   "outputs": [
    {
     "name": "stdout",
     "output_type": "stream",
     "text": [
      "sum of all numbers between 0 and 1000: known result 499500, explicit sum 499500\n"
     ]
    }
   ],
   "source": [
    "print(f\"sum of all numbers between 0 and {N}: known result {N * (N-1) // 2}, explicit sum {sum(range(N))}\")"
   ]
  },
  {
   "cell_type": "code",
   "execution_count": 3,
   "id": "committed-lemon",
   "metadata": {
    "execution": {
     "iopub.execute_input": "2021-02-09T09:18:21.108352Z",
     "iopub.status.busy": "2021-02-09T09:18:21.107955Z",
     "iopub.status.idle": "2021-02-09T09:18:21.112556Z",
     "shell.execute_reply": "2021-02-09T09:18:21.112846Z"
    },
    "papermill": {
     "duration": 0.012552,
     "end_time": "2021-02-09T09:18:21.112942",
     "exception": false,
     "start_time": "2021-02-09T09:18:21.100390",
     "status": "completed"
    },
    "tags": []
   },
   "outputs": [
    {
     "name": "stdout",
     "output_type": "stream",
     "text": [
      "Inverse of 1000: 0.001\n"
     ]
    }
   ],
   "source": [
    "# (we need some calculation that we can easily let fail)\n",
    "print(f\"Inverse of {N}: {1 / N}\")"
   ]
  }
 ],
 "metadata": {
  "kernelspec": {
   "display_name": "Python [conda env:py3_lagrange_v2.2.2]",
   "language": "python",
   "name": "conda-env-py3_lagrange_v2.2.2-py"
  },
  "language_info": {
   "codemirror_mode": {
    "name": "ipython",
    "version": 3
   },
   "file_extension": ".py",
   "mimetype": "text/x-python",
   "name": "python",
   "nbconvert_exporter": "python",
   "pygments_lexer": "ipython3",
   "version": "3.8.6"
  },
  "papermill": {
   "default_parameters": {},
   "duration": 2.210667,
   "end_time": "2021-02-09T09:18:22.268155",
   "environment_variables": {},
   "exception": null,
   "input_path": "original_notebooks/01_papermill_demo.ipynb",
   "output_path": "evaluated_notebooks/01_papermill_demo.ipynb",
   "parameters": {},
   "start_time": "2021-02-09T09:18:20.057488",
   "version": "2.3.2"
  }
 },
 "nbformat": 4,
 "nbformat_minor": 5
}