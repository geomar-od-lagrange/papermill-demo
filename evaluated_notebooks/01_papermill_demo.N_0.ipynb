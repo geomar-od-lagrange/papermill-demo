{
 "cells": [
  {
   "cell_type": "markdown",
   "id": "packed-algeria",
   "metadata": {
    "tags": [
     "papermill-error-cell-tag"
    ]
   },
   "source": [
    "<span style=\"color:red; font-family:Helvetica Neue, Helvetica, Arial, sans-serif; font-size:2em;\">An Exception was encountered at '<a href=\"#papermill-error-cell\">In [4]</a>'.</span>"
   ]
  },
  {
   "cell_type": "markdown",
   "id": "binding-roller",
   "metadata": {
    "papermill": {
     "duration": 0.010321,
     "end_time": "2021-02-09T08:41:58.429182",
     "exception": false,
     "start_time": "2021-02-09T08:41:58.418861",
     "status": "completed"
    },
    "tags": []
   },
   "source": [
    "# A Demo Notebook\n",
    "\n",
    "We'll use [Papermill](https://papermill.readthedocs.io/) to evaluate this notebooks with different parameters."
   ]
  },
  {
   "cell_type": "markdown",
   "id": "suspended-holmes",
   "metadata": {
    "papermill": {
     "duration": 0.004122,
     "end_time": "2021-02-09T08:41:58.439117",
     "exception": false,
     "start_time": "2021-02-09T08:41:58.434995",
     "status": "completed"
    },
    "tags": []
   },
   "source": [
    "## Parameters\n",
    "\n",
    "Make sure to keep all parameters in a single cell that is tagged as \"parameters\". [More on how to tag a cell in JupyterLab here.](https://papermill.readthedocs.io/en/latest/usage-parameterize.html?highlight=tag#id1)"
   ]
  },
  {
   "cell_type": "code",
   "execution_count": 1,
   "id": "technical-shakespeare",
   "metadata": {
    "execution": {
     "iopub.execute_input": "2021-02-09T08:41:58.460344Z",
     "iopub.status.busy": "2021-02-09T08:41:58.454291Z",
     "iopub.status.idle": "2021-02-09T08:41:58.463602Z",
     "shell.execute_reply": "2021-02-09T08:41:58.463009Z"
    },
    "papermill": {
     "duration": 0.021577,
     "end_time": "2021-02-09T08:41:58.463779",
     "exception": false,
     "start_time": "2021-02-09T08:41:58.442202",
     "status": "completed"
    },
    "tags": [
     "parameters"
    ]
   },
   "outputs": [],
   "source": [
    "# (this cell is tagged as \"parameters\")\n",
    "\n",
    "N = 1_000"
   ]
  },
  {
   "cell_type": "code",
   "execution_count": 2,
   "id": "oriented-petroleum",
   "metadata": {
    "execution": {
     "iopub.execute_input": "2021-02-09T08:41:58.476278Z",
     "iopub.status.busy": "2021-02-09T08:41:58.475908Z",
     "iopub.status.idle": "2021-02-09T08:41:58.479611Z",
     "shell.execute_reply": "2021-02-09T08:41:58.479184Z"
    },
    "papermill": {
     "duration": 0.012123,
     "end_time": "2021-02-09T08:41:58.479702",
     "exception": false,
     "start_time": "2021-02-09T08:41:58.467579",
     "status": "completed"
    },
    "tags": [
     "injected-parameters"
    ]
   },
   "outputs": [],
   "source": [
    "# Parameters\n",
    "N = 0\n"
   ]
  },
  {
   "cell_type": "markdown",
   "id": "conscious-target",
   "metadata": {
    "papermill": {
     "duration": 0.003199,
     "end_time": "2021-02-09T08:41:58.485680",
     "exception": false,
     "start_time": "2021-02-09T08:41:58.482481",
     "status": "completed"
    },
    "tags": []
   },
   "source": [
    "## Some \"Calculations\"\n",
    "\n",
    "Let's have some simple pseudo-calculations here."
   ]
  },
  {
   "cell_type": "code",
   "execution_count": 3,
   "id": "greatest-paraguay",
   "metadata": {
    "execution": {
     "iopub.execute_input": "2021-02-09T08:41:58.497581Z",
     "iopub.status.busy": "2021-02-09T08:41:58.497201Z",
     "iopub.status.idle": "2021-02-09T08:41:58.501338Z",
     "shell.execute_reply": "2021-02-09T08:41:58.501709Z"
    },
    "papermill": {
     "duration": 0.013116,
     "end_time": "2021-02-09T08:41:58.501814",
     "exception": false,
     "start_time": "2021-02-09T08:41:58.488698",
     "status": "completed"
    },
    "tags": []
   },
   "outputs": [
    {
     "name": "stdout",
     "output_type": "stream",
     "text": [
      "sum of all numbers between 0 and 0: known result 0, explicit sum 0\n"
     ]
    }
   ],
   "source": [
    "print(f\"sum of all numbers between 0 and {N}: known result {N * (N-1) // 2}, explicit sum {sum(range(N))}\")"
   ]
  },
  {
   "cell_type": "markdown",
   "id": "changing-architect",
   "metadata": {
    "tags": [
     "papermill-error-cell-tag"
    ]
   },
   "source": [
    "<span id=\"papermill-error-cell\" style=\"color:red; font-family:Helvetica Neue, Helvetica, Arial, sans-serif; font-size:2em;\">Execution using papermill encountered an exception here and stopped:</span>"
   ]
  },
  {
   "cell_type": "code",
   "execution_count": 4,
   "id": "informed-penguin",
   "metadata": {
    "execution": {
     "iopub.execute_input": "2021-02-09T08:41:58.516063Z",
     "iopub.status.busy": "2021-02-09T08:41:58.512310Z",
     "iopub.status.idle": "2021-02-09T08:41:58.558559Z",
     "shell.execute_reply": "2021-02-09T08:41:58.557260Z"
    },
    "papermill": {
     "duration": 0.053758,
     "end_time": "2021-02-09T08:41:58.558921",
     "exception": true,
     "start_time": "2021-02-09T08:41:58.505163",
     "status": "failed"
    },
    "tags": []
   },
   "outputs": [
    {
     "ename": "ZeroDivisionError",
     "evalue": "division by zero",
     "output_type": "error",
     "traceback": [
      "\u001b[0;31m---------------------------------------------------------------------------\u001b[0m",
      "\u001b[0;31mZeroDivisionError\u001b[0m                         Traceback (most recent call last)",
      "\u001b[0;32m<ipython-input-4-181931faf482>\u001b[0m in \u001b[0;36m<module>\u001b[0;34m\u001b[0m\n\u001b[1;32m      1\u001b[0m \u001b[0;31m# (we need some calculation that we can easily let fail)\u001b[0m\u001b[0;34m\u001b[0m\u001b[0;34m\u001b[0m\u001b[0;34m\u001b[0m\u001b[0m\n\u001b[0;32m----> 2\u001b[0;31m \u001b[0mprint\u001b[0m\u001b[0;34m(\u001b[0m\u001b[0;34mf\"Inverse of {N}: {1 / N}\"\u001b[0m\u001b[0;34m)\u001b[0m\u001b[0;34m\u001b[0m\u001b[0;34m\u001b[0m\u001b[0m\n\u001b[0m",
      "\u001b[0;31mZeroDivisionError\u001b[0m: division by zero"
     ]
    }
   ],
   "source": [
    "# (we need some calculation that we can easily let fail)\n",
    "print(f\"Inverse of {N}: {1 / N}\")"
   ]
  }
 ],
 "metadata": {
  "kernelspec": {
   "display_name": "Python [conda env:py3_lagrange_v2.2.2]",
   "language": "python",
   "name": "conda-env-py3_lagrange_v2.2.2-py"
  },
  "language_info": {
   "codemirror_mode": {
    "name": "ipython",
    "version": 3
   },
   "file_extension": ".py",
   "mimetype": "text/x-python",
   "name": "python",
   "nbconvert_exporter": "python",
   "pygments_lexer": "ipython3",
   "version": "3.8.6"
  },
  "papermill": {
   "default_parameters": {},
   "duration": 1.27202,
   "end_time": "2021-02-09T08:41:58.868725",
   "environment_variables": {},
   "exception": true,
   "input_path": "original_notebooks/01_papermill_demo.ipynb",
   "output_path": "evaluated_notebooks/01_papermill_demo.N_0.ipynb",
   "parameters": {
    "N": 0
   },
   "start_time": "2021-02-09T08:41:57.596705",
   "version": "2.3.2"
  }
 },
 "nbformat": 4,
 "nbformat_minor": 5
}