{
 "cells": [
  {
   "cell_type": "markdown",
   "id": "dutch-billion",
   "metadata": {
    "papermill": {
     "duration": 0.01066,
     "end_time": "2021-02-09T08:41:57.232182",
     "exception": false,
     "start_time": "2021-02-09T08:41:57.221522",
     "status": "completed"
    },
    "tags": []
   },
   "source": [
    "# A Demo Notebook\n",
    "\n",
    "We'll use [Papermill](https://papermill.readthedocs.io/) to evaluate this notebooks with different parameters."
   ]
  },
  {
   "cell_type": "markdown",
   "id": "respective-adams",
   "metadata": {
    "papermill": {
     "duration": 0.004503,
     "end_time": "2021-02-09T08:41:57.243763",
     "exception": false,
     "start_time": "2021-02-09T08:41:57.239260",
     "status": "completed"
    },
    "tags": []
   },
   "source": [
    "## Parameters\n",
    "\n",
    "Make sure to keep all parameters in a single cell that is tagged as \"parameters\". [More on how to tag a cell in JupyterLab here.](https://papermill.readthedocs.io/en/latest/usage-parameterize.html?highlight=tag#id1)"
   ]
  },
  {
   "cell_type": "code",
   "execution_count": 1,
   "id": "vanilla-detail",
   "metadata": {
    "execution": {
     "iopub.execute_input": "2021-02-09T08:41:57.265668Z",
     "iopub.status.busy": "2021-02-09T08:41:57.265154Z",
     "iopub.status.idle": "2021-02-09T08:41:57.269205Z",
     "shell.execute_reply": "2021-02-09T08:41:57.268616Z"
    },
    "papermill": {
     "duration": 0.022631,
     "end_time": "2021-02-09T08:41:57.269384",
     "exception": false,
     "start_time": "2021-02-09T08:41:57.246753",
     "status": "completed"
    },
    "tags": [
     "parameters"
    ]
   },
   "outputs": [],
   "source": [
    "# (this cell is tagged as \"parameters\")\n",
    "\n",
    "N = 1_000"
   ]
  },
  {
   "cell_type": "code",
   "execution_count": 2,
   "id": "formed-resident",
   "metadata": {
    "execution": {
     "iopub.execute_input": "2021-02-09T08:41:57.280146Z",
     "iopub.status.busy": "2021-02-09T08:41:57.279780Z",
     "iopub.status.idle": "2021-02-09T08:41:57.283496Z",
     "shell.execute_reply": "2021-02-09T08:41:57.283065Z"
    },
    "papermill": {
     "duration": 0.010383,
     "end_time": "2021-02-09T08:41:57.283597",
     "exception": false,
     "start_time": "2021-02-09T08:41:57.273214",
     "status": "completed"
    },
    "tags": [
     "injected-parameters"
    ]
   },
   "outputs": [],
   "source": [
    "# Parameters\n",
    "N = 10000\n"
   ]
  },
  {
   "cell_type": "markdown",
   "id": "better-northern",
   "metadata": {
    "papermill": {
     "duration": 0.002968,
     "end_time": "2021-02-09T08:41:57.289599",
     "exception": false,
     "start_time": "2021-02-09T08:41:57.286631",
     "status": "completed"
    },
    "tags": []
   },
   "source": [
    "## Some \"Calculations\"\n",
    "\n",
    "Let's have some simple pseudo-calculations here."
   ]
  },
  {
   "cell_type": "code",
   "execution_count": 3,
   "id": "following-brake",
   "metadata": {
    "execution": {
     "iopub.execute_input": "2021-02-09T08:41:57.301176Z",
     "iopub.status.busy": "2021-02-09T08:41:57.300821Z",
     "iopub.status.idle": "2021-02-09T08:41:57.306118Z",
     "shell.execute_reply": "2021-02-09T08:41:57.305481Z"
    },
    "papermill": {
     "duration": 0.013804,
     "end_time": "2021-02-09T08:41:57.306229",
     "exception": false,
     "start_time": "2021-02-09T08:41:57.292425",
     "status": "completed"
    },
    "tags": []
   },
   "outputs": [
    {
     "name": "stdout",
     "output_type": "stream",
     "text": [
      "sum of all numbers between 0 and 10000: known result 49995000, explicit sum 49995000\n"
     ]
    }
   ],
   "source": [
    "print(f\"sum of all numbers between 0 and {N}: known result {N * (N-1) // 2}, explicit sum {sum(range(N))}\")"
   ]
  },
  {
   "cell_type": "code",
   "execution_count": 4,
   "id": "intensive-georgia",
   "metadata": {
    "execution": {
     "iopub.execute_input": "2021-02-09T08:41:57.317899Z",
     "iopub.status.busy": "2021-02-09T08:41:57.317527Z",
     "iopub.status.idle": "2021-02-09T08:41:57.322673Z",
     "shell.execute_reply": "2021-02-09T08:41:57.322000Z"
    },
    "papermill": {
     "duration": 0.012824,
     "end_time": "2021-02-09T08:41:57.322762",
     "exception": false,
     "start_time": "2021-02-09T08:41:57.309938",
     "status": "completed"
    },
    "tags": []
   },
   "outputs": [
    {
     "name": "stdout",
     "output_type": "stream",
     "text": [
      "Inverse of 10000: 0.0001\n"
     ]
    }
   ],
   "source": [
    "# (we need some calculation that we can easily let fail)\n",
    "print(f\"Inverse of {N}: {1 / N}\")"
   ]
  }
 ],
 "metadata": {
  "kernelspec": {
   "display_name": "Python [conda env:py3_lagrange_v2.2.2]",
   "language": "python",
   "name": "conda-env-py3_lagrange_v2.2.2-py"
  },
  "language_info": {
   "codemirror_mode": {
    "name": "ipython",
    "version": 3
   },
   "file_extension": ".py",
   "mimetype": "text/x-python",
   "name": "python",
   "nbconvert_exporter": "python",
   "pygments_lexer": "ipython3",
   "version": "3.8.6"
  },
  "papermill": {
   "default_parameters": {},
   "duration": 0.88065,
   "end_time": "2021-02-09T08:41:57.538750",
   "environment_variables": {},
   "exception": null,
   "input_path": "original_notebooks/01_papermill_demo.ipynb",
   "output_path": "evaluated_notebooks/01_papermill_demo.N_10000.ipynb",
   "parameters": {
    "N": 10000
   },
   "start_time": "2021-02-09T08:41:56.658100",
   "version": "2.3.2"
  }
 },
 "nbformat": 4,
 "nbformat_minor": 5
}