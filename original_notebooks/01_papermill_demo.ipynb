{
 "cells": [
  {
   "cell_type": "markdown",
   "metadata": {},
   "source": [
    "# A Demo Notebook\n",
    "\n",
    "We'll use [Papermill](https://papermill.readthedocs.io/) to evaluate this notebooks with different parameters."
   ]
  },
  {
   "cell_type": "markdown",
   "metadata": {},
   "source": [
    "## Parameters\n",
    "\n",
    "Make sure to keep all parameters in a single cell that is tagged as \"parameters\". [More on how to tag a cell in JupyterLab here.](https://papermill.readthedocs.io/en/latest/usage-parameterize.html?highlight=tag#id1)"
   ]
  },
  {
   "cell_type": "code",
   "execution_count": 1,
   "metadata": {
    "tags": [
     "parameters"
    ]
   },
   "outputs": [],
   "source": [
    "# (this cell is tagged as \"parameters\")\n",
    "\n",
    "N = 1_000"
   ]
  },
  {
   "cell_type": "markdown",
   "metadata": {},
   "source": [
    "## Some \"Calculations\"\n",
    "\n",
    "Let's have some simple pseudo-calculations here."
   ]
  },
  {
   "cell_type": "code",
   "execution_count": 2,
   "metadata": {},
   "outputs": [
    {
     "name": "stdout",
     "output_type": "stream",
     "text": [
      "sum of all numbers between 0 and 1000: known result 499500, explicit sum 499500\n"
     ]
    }
   ],
   "source": [
    "print(f\"sum of all numbers between 0 and {N}: known result {N * (N-1) // 2}, explicit sum {sum(range(N))}\")"
   ]
  },
  {
   "cell_type": "code",
   "execution_count": 3,
   "metadata": {},
   "outputs": [
    {
     "name": "stdout",
     "output_type": "stream",
     "text": [
      "Inverse of 1000: 0.001\n"
     ]
    }
   ],
   "source": [
    "# (we need some calculation that we can easily let fail)\n",
    "print(f\"Inverse of {N}: {1 / N}\")"
   ]
  }
 ],
 "metadata": {
  "kernelspec": {
   "display_name": "Python [conda env:py3_lagrange_v2.2.2]",
   "language": "python",
   "name": "conda-env-py3_lagrange_v2.2.2-py"
  },
  "language_info": {
   "codemirror_mode": {
    "name": "ipython",
    "version": 3
   },
   "file_extension": ".py",
   "mimetype": "text/x-python",
   "name": "python",
   "nbconvert_exporter": "python",
   "pygments_lexer": "ipython3",
   "version": "3.8.6"
  }
 },
 "nbformat": 4,
 "nbformat_minor": 4
}
