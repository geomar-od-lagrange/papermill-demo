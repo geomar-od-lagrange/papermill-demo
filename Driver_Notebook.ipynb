{
 "cells": [
  {
   "cell_type": "code",
   "execution_count": null,
   "metadata": {},
   "outputs": [],
   "source": [
    "import papermill"
   ]
  },
  {
   "cell_type": "code",
   "execution_count": null,
   "metadata": {},
   "outputs": [],
   "source": [
    "# eval as is\n",
    "evn = papermill.execute_notebook(\n",
    "    \"original_notebooks/01_papermill_demo.ipynb\",\n",
    "    \"evaluated_notebooks/01_papermill_demo.ipynb\",\n",
    "    kernel_name=\"py3_lagrange_v2.2.2\"\n",
    ")"
   ]
  },
  {
   "cell_type": "code",
   "execution_count": null,
   "metadata": {},
   "outputs": [],
   "source": [
    "# eval with changed parameters\n",
    "evn = papermill.execute_notebook(\n",
    "    \"original_notebooks/01_papermill_demo.ipynb\",\n",
    "    \"evaluated_notebooks/01_papermill_demo.N_10000.ipynb\",\n",
    "    parameters={\"N\": 10000},\n",
    "    kernel_name=\"py3_lagrange_v2.2.2\"\n",
    ")"
   ]
  },
  {
   "cell_type": "code",
   "execution_count": null,
   "metadata": {},
   "outputs": [],
   "source": [
    "# eval with parameters that lead to an error\n",
    "evn = papermill.execute_notebook(\n",
    "    \"original_notebooks/01_papermill_demo.ipynb\",\n",
    "    \"evaluated_notebooks/01_papermill_demo.N_0.ipynb\",\n",
    "    parameters={\"N\": 0},\n",
    "    kernel_name=\"py3_lagrange_v2.2.2\"\n",
    ")"
   ]
  }
 ],
 "metadata": {
  "kernelspec": {
   "display_name": "Python [conda env:py3_lagrange_v2.2.2]",
   "language": "python",
   "name": "conda-env-py3_lagrange_v2.2.2-py"
  },
  "language_info": {
   "codemirror_mode": {
    "name": "ipython",
    "version": 3
   },
   "file_extension": ".py",
   "mimetype": "text/x-python",
   "name": "python",
   "nbconvert_exporter": "python",
   "pygments_lexer": "ipython3",
   "version": "3.8.6"
  }
 },
 "nbformat": 4,
 "nbformat_minor": 4
}
